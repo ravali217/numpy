{
  "nbformat": 4,
  "nbformat_minor": 0,
  "metadata": {
    "colab": {
      "provenance": []
    },
    "kernelspec": {
      "name": "python3",
      "display_name": "Python 3"
    },
    "language_info": {
      "name": "python"
    }
  },
  "cells": [
    {
      "cell_type": "code",
      "execution_count": 2,
      "metadata": {
        "colab": {
          "base_uri": "https://localhost:8080/"
        },
        "id": "3vmsBk-eGgAD",
        "outputId": "2b874578-9a3e-40a7-e1a9-787ecd17a17d"
      },
      "outputs": [
        {
          "output_type": "stream",
          "name": "stdout",
          "text": [
            "Requirement already satisfied: numpy in /usr/local/lib/python3.12/dist-packages (2.0.2)\n"
          ]
        }
      ],
      "source": [
        "pip install numpy\n"
      ]
    },
    {
      "cell_type": "code",
      "source": [
        "import numpy as np\n"
      ],
      "metadata": {
        "id": "h1Nx2FHVHEZ0"
      },
      "execution_count": 3,
      "outputs": []
    },
    {
      "cell_type": "code",
      "source": [
        "a=np.array([1,2,3])\n",
        "print(a)"
      ],
      "metadata": {
        "colab": {
          "base_uri": "https://localhost:8080/"
        },
        "id": "WYLYKTQEHIuY",
        "outputId": "76a4bf0f-f653-4a24-e1e8-3472739b4baf"
      },
      "execution_count": 4,
      "outputs": [
        {
          "output_type": "stream",
          "name": "stdout",
          "text": [
            "[1 2 3]\n"
          ]
        }
      ]
    },
    {
      "cell_type": "code",
      "source": [
        "a=np.array(42)\n",
        "b=np.array([1,2,3])\n",
        "c=np.array([[1,2,3],[4,5,6]])\n",
        "d=np.array([[[1,2,3],[4,5,6]],[[7,8,9],[10,11,12]]])\n",
        "print(a.ndim)\n",
        "print(b.ndim)\n",
        "print(c.ndim)\n",
        "print(d.ndim)"
      ],
      "metadata": {
        "colab": {
          "base_uri": "https://localhost:8080/"
        },
        "id": "OlM97wOvHy4e",
        "outputId": "93c97b42-2852-48a8-bb31-d49bf5aea35d"
      },
      "execution_count": 12,
      "outputs": [
        {
          "output_type": "stream",
          "name": "stdout",
          "text": [
            "0\n",
            "1\n",
            "2\n",
            "3\n"
          ]
        }
      ]
    },
    {
      "cell_type": "code",
      "source": [
        "random_arr=np.random.random((2,2))\n",
        "print(random_arr)"
      ],
      "metadata": {
        "colab": {
          "base_uri": "https://localhost:8080/"
        },
        "id": "Kb6uobFEHNJx",
        "outputId": "e4fd4cca-6824-4ee2-b44d-e5a81dbc3c8d"
      },
      "execution_count": 5,
      "outputs": [
        {
          "output_type": "stream",
          "name": "stdout",
          "text": [
            "[[0.37839388 0.74805807]\n",
            " [0.93450946 0.86678919]]\n"
          ]
        }
      ]
    },
    {
      "cell_type": "code",
      "source": [
        "range=np.arange(0,10,2)\n",
        "print(range)"
      ],
      "metadata": {
        "colab": {
          "base_uri": "https://localhost:8080/"
        },
        "id": "yam4JWFEHXXP",
        "outputId": "2ed77610-43e4-4cdc-fc40-a19521c0d2cd"
      },
      "execution_count": 7,
      "outputs": [
        {
          "output_type": "stream",
          "name": "stdout",
          "text": [
            "[0 2 4 6 8]\n"
          ]
        }
      ]
    },
    {
      "cell_type": "code",
      "source": [
        "identity=np.eye(3)\n",
        "print(identity)"
      ],
      "metadata": {
        "colab": {
          "base_uri": "https://localhost:8080/"
        },
        "id": "Um3S7nR1HdYs",
        "outputId": "5e5ddcfd-8c7c-4fc3-a044-75a153805921"
      },
      "execution_count": 8,
      "outputs": [
        {
          "output_type": "stream",
          "name": "stdout",
          "text": [
            "[[1. 0. 0.]\n",
            " [0. 1. 0.]\n",
            " [0. 0. 1.]]\n"
          ]
        }
      ]
    },
    {
      "cell_type": "code",
      "source": [
        "arr=np.array([[1,2,3],[4,5,6]])\n",
        "print(\"shape:\",arr.shape)\n",
        "print(\"size:\",arr.size)\n",
        "print(\"data type:\",arr.dtype)\n",
        "print(\"number of dimensions:\",arr.ndim)"
      ],
      "metadata": {
        "colab": {
          "base_uri": "https://localhost:8080/"
        },
        "id": "PgH-18YAHtaX",
        "outputId": "0cb892e7-36dc-49cb-fd60-4b246eda087c"
      },
      "execution_count": 13,
      "outputs": [
        {
          "output_type": "stream",
          "name": "stdout",
          "text": [
            "shape: (2, 3)\n",
            "size: 6\n",
            "data type: int64\n",
            "number of dimensions: 2\n"
          ]
        }
      ]
    },
    {
      "cell_type": "code",
      "source": [
        "zeros=np.zeros((2,3))\n",
        "print(zeros)"
      ],
      "metadata": {
        "colab": {
          "base_uri": "https://localhost:8080/"
        },
        "id": "Z5SAHERaJHiq",
        "outputId": "13c821a8-2060-4a61-8c98-bf11dd7191aa"
      },
      "execution_count": 14,
      "outputs": [
        {
          "output_type": "stream",
          "name": "stdout",
          "text": [
            "[[0. 0. 0.]\n",
            " [0. 0. 0.]]\n"
          ]
        }
      ]
    },
    {
      "cell_type": "code",
      "source": [
        "ones=np.ones((3,3))\n",
        "print(ones)"
      ],
      "metadata": {
        "colab": {
          "base_uri": "https://localhost:8080/"
        },
        "id": "XEmQBuWXJUDt",
        "outputId": "302caf2a-582f-4f20-c07f-9aff8ecc6829"
      },
      "execution_count": 15,
      "outputs": [
        {
          "output_type": "stream",
          "name": "stdout",
          "text": [
            "[[1. 1. 1.]\n",
            " [1. 1. 1.]\n",
            " [1. 1. 1.]]\n"
          ]
        }
      ]
    },
    {
      "cell_type": "code",
      "source": [
        "temp_data=np.array([[22,25,20],[24,26,23]])\n",
        "print(temp_data)\n",
        "print(temp_data.ndim)\n",
        "print(\"shape:\",temp_data.shape)\n",
        "print(\"size:\",temp_data.size)\n",
        "print(\"data type:\",temp_data.dtype)\n",
        "print(\"number of dimensions:\",temp_data.ndim)\n"
      ],
      "metadata": {
        "colab": {
          "base_uri": "https://localhost:8080/"
        },
        "id": "Z2FeurCvJZg2",
        "outputId": "bbf77563-d2ac-43d4-e45f-1e6cd9a72e0f"
      },
      "execution_count": 19,
      "outputs": [
        {
          "output_type": "stream",
          "name": "stdout",
          "text": [
            "[[22 25 20]\n",
            " [24 26 23]]\n",
            "2\n",
            "shape: (2, 3)\n",
            "size: 6\n",
            "data type: int64\n",
            "number of dimensions: 2\n"
          ]
        }
      ]
    },
    {
      "cell_type": "code",
      "source": [
        "print(\"shape:\",temp_data.shape)\n",
        "print(\"size:\",temp_data.size)\n",
        "print(\"data type:\",temp_data.dtype)\n",
        "print(\"number of dimensions:\",temp_data.ndim)"
      ],
      "metadata": {
        "colab": {
          "base_uri": "https://localhost:8080/"
        },
        "id": "PBHgIDF6KWnA",
        "outputId": "25fd64c8-65f2-44ce-86c4-f370043e42ae"
      },
      "execution_count": 18,
      "outputs": [
        {
          "output_type": "stream",
          "name": "stdout",
          "text": [
            "shape: (2, 3)\n",
            "size: 6\n",
            "data type: int64\n",
            "number of dimensions: 2\n"
          ]
        }
      ]
    },
    {
      "cell_type": "code",
      "source": [
        "new_data=np.array([[21,23,22]])\n",
        "temp_data=np.vstack([temp_data,new_data])\n",
        "print(temp_data)\n",
        "print(temp_data.ndim)"
      ],
      "metadata": {
        "colab": {
          "base_uri": "https://localhost:8080/"
        },
        "id": "YZMwIQZjKuyc",
        "outputId": "a39507bf-fafd-4c24-ec87-bbb66d125cbb"
      },
      "execution_count": 37,
      "outputs": [
        {
          "output_type": "stream",
          "name": "stdout",
          "text": [
            "[[22 25 20]\n",
            " [24 26 23]\n",
            " [21 23 22]\n",
            " [21 23 22]\n",
            " [21 23 22]\n",
            " [21 23 22]\n",
            " [21 23 22]]\n",
            "2\n"
          ]
        }
      ]
    },
    {
      "cell_type": "code",
      "source": [
        "updated_temp_data=temp_data.copy()\n",
        "print"
      ],
      "metadata": {
        "colab": {
          "base_uri": "https://localhost:8080/"
        },
        "id": "ExatRXSsMNvs",
        "outputId": "a48276b7-cd02-4403-8c2d-4827849f55a2"
      },
      "execution_count": 24,
      "outputs": [
        {
          "output_type": "stream",
          "name": "stdout",
          "text": [
            "[[22 25 20]\n",
            " [24 26 23]\n",
            " [21 23 22]\n",
            " [21 23 22]]\n"
          ]
        }
      ]
    },
    {
      "cell_type": "code",
      "source": [
        "arr=np.array([[20,30,40],[50,60,70]])\n",
        "print(arr[0,1])\n",
        "print(arr[1,-1])"
      ],
      "metadata": {
        "colab": {
          "base_uri": "https://localhost:8080/"
        },
        "id": "mtQCZOmPNVC4",
        "outputId": "0041f330-2aba-4e76-d8c6-f3dde8aa6e2b"
      },
      "execution_count": 33,
      "outputs": [
        {
          "output_type": "stream",
          "name": "stdout",
          "text": [
            "30\n",
            "70\n"
          ]
        }
      ]
    },
    {
      "cell_type": "code",
      "source": [
        "print(arr[:,-1:])"
      ],
      "metadata": {
        "colab": {
          "base_uri": "https://localhost:8080/"
        },
        "id": "ejTqgEVAOoYG",
        "outputId": "7fc3ca1b-22aa-4b53-cb93-98e40dcb603c"
      },
      "execution_count": 38,
      "outputs": [
        {
          "output_type": "stream",
          "name": "stdout",
          "text": [
            "[[40]\n",
            " [70]]\n"
          ]
        }
      ]
    },
    {
      "cell_type": "code",
      "source": [
        "sensor_error_flags=np.zeros((2,3))\n",
        "print(sensor_error_flags)"
      ],
      "metadata": {
        "colab": {
          "base_uri": "https://localhost:8080/"
        },
        "id": "C1OFTFcBO22C",
        "outputId": "9335ce7f-1b29-4f66-9d58-904086156f9e"
      },
      "execution_count": 39,
      "outputs": [
        {
          "output_type": "stream",
          "name": "stdout",
          "text": [
            "[[0. 0. 0.]\n",
            " [0. 0. 0.]]\n"
          ]
        }
      ]
    },
    {
      "cell_type": "code",
      "source": [
        "greenhouse_identity=np.ones((3,3))\n",
        "print(greenhouse_identity)"
      ],
      "metadata": {
        "colab": {
          "base_uri": "https://localhost:8080/"
        },
        "id": "1tGXRoCKQz4I",
        "outputId": "9ba1506d-e8a4-4054-b24b-395e37acccc2"
      },
      "execution_count": 40,
      "outputs": [
        {
          "output_type": "stream",
          "name": "stdout",
          "text": [
            "[[1. 1. 1.]\n",
            " [1. 1. 1.]\n",
            " [1. 1. 1.]]\n"
          ]
        }
      ]
    },
    {
      "cell_type": "code",
      "source": [
        "print(updated_temp_data, sensor_error_flags,greenhouse_identity)"
      ],
      "metadata": {
        "colab": {
          "base_uri": "https://localhost:8080/"
        },
        "id": "Cx3gCcC5Q50w",
        "outputId": "873d9cba-099a-4b22-8e7f-b5045716f581"
      },
      "execution_count": 41,
      "outputs": [
        {
          "output_type": "stream",
          "name": "stdout",
          "text": [
            "[[22 25 20]\n",
            " [24 26 23]\n",
            " [21 23 22]\n",
            " [21 23 22]] [[0. 0. 0.]\n",
            " [0. 0. 0.]] [[1. 1. 1.]\n",
            " [1. 1. 1.]\n",
            " [1. 1. 1.]]\n"
          ]
        }
      ]
    },
    {
      "cell_type": "code",
      "source": [
        "shipments=np.array([[50,60,55,70,65,80,90],[40,45,50,60,55,70,75]])\n",
        "print(shipments)"
      ],
      "metadata": {
        "colab": {
          "base_uri": "https://localhost:8080/"
        },
        "id": "iHsoaq9QQ_t2",
        "outputId": "ad496bc3-7307-4ef7-b33a-978f924d4d6b"
      },
      "execution_count": 44,
      "outputs": [
        {
          "output_type": "stream",
          "name": "stdout",
          "text": [
            "[[50 60 55 70 65 80 90]\n",
            " [40 45 50 60 55 70 75]]\n"
          ]
        }
      ]
    },
    {
      "cell_type": "code",
      "source": [
        "print(shipments[0,2])\n",
        "print(shipments[1,6])\n",
        "shipments[0,5]=100\n",
        "print(shipments)"
      ],
      "metadata": {
        "colab": {
          "base_uri": "https://localhost:8080/"
        },
        "id": "nzOcgL0yXBjf",
        "outputId": "1acc34bd-e961-4078-ccc4-5436838ddbb1"
      },
      "execution_count": 50,
      "outputs": [
        {
          "output_type": "stream",
          "name": "stdout",
          "text": [
            "55\n",
            "75\n",
            "[[ 50  60  55  70  65 100  90]\n",
            " [ 40  45  50  60  55  70  75]]\n"
          ]
        }
      ]
    },
    {
      "cell_type": "code",
      "source": [
        "a=np.array([1,2,3])\n",
        "b=np.array([4,5,6])\n",
        "print(a+b)"
      ],
      "metadata": {
        "colab": {
          "base_uri": "https://localhost:8080/"
        },
        "id": "VUjIXEfxXnyc",
        "outputId": "4cf8f7eb-fbe7-407d-f856-7df44c697591"
      },
      "execution_count": 47,
      "outputs": [
        {
          "output_type": "stream",
          "name": "stdout",
          "text": [
            "[5 7 9]\n"
          ]
        }
      ]
    },
    {
      "cell_type": "code",
      "source": [
        "print(a*b)"
      ],
      "metadata": {
        "colab": {
          "base_uri": "https://localhost:8080/"
        },
        "id": "Vl5Nw9LRX0Pr",
        "outputId": "6b8c0b9b-c742-4c90-9900-5b6a89f65981"
      },
      "execution_count": 48,
      "outputs": [
        {
          "output_type": "stream",
          "name": "stdout",
          "text": [
            "[ 4 10 18]\n"
          ]
        }
      ]
    },
    {
      "cell_type": "code",
      "source": [
        "print(a*2)"
      ],
      "metadata": {
        "colab": {
          "base_uri": "https://localhost:8080/"
        },
        "id": "TQ-i5wRSX3b4",
        "outputId": "85c7f587-3e5e-43c4-ec7a-ae5116cda5b8"
      },
      "execution_count": 49,
      "outputs": [
        {
          "output_type": "stream",
          "name": "stdout",
          "text": [
            "[2 4 6]\n"
          ]
        }
      ]
    },
    {
      "cell_type": "code",
      "source": [
        "mat1=np.array([[1,2],[3,4]])\n",
        "mat2=np.array([[5,6],[7,8]])\n",
        "result=np.dot(mat1,mat2)\n",
        "print(result)\n"
      ],
      "metadata": {
        "colab": {
          "base_uri": "https://localhost:8080/"
        },
        "id": "JYIV-BT8X7ga",
        "outputId": "e4c16e97-d8cf-469a-8b43-2789e38a133b"
      },
      "execution_count": 53,
      "outputs": [
        {
          "output_type": "stream",
          "name": "stdout",
          "text": [
            "[[19 22]\n",
            " [43 50]]\n"
          ]
        }
      ]
    },
    {
      "cell_type": "markdown",
      "source": [
        "Broadcasting"
      ],
      "metadata": {
        "id": "zpjfCixKZVWy"
      }
    },
    {
      "cell_type": "code",
      "source": [
        "a=np.array([1,2,3])\n",
        "b=2\n",
        "print(a+b)\n"
      ],
      "metadata": {
        "colab": {
          "base_uri": "https://localhost:8080/"
        },
        "id": "_E92nZ-lZcAL",
        "outputId": "2ff8227e-c77b-49d6-e167-b7d3a660608f"
      },
      "execution_count": 54,
      "outputs": [
        {
          "output_type": "stream",
          "name": "stdout",
          "text": [
            "[3 4 5]\n"
          ]
        }
      ]
    },
    {
      "cell_type": "code",
      "source": [
        "arr=np.array([1,2,3])\n",
        "\n",
        "print(np.exp(arr))\n",
        "print(np.sqrt(arr))\n",
        "print(np.log(arr))\n",
        "print(np.log10(arr))\n",
        "print(np.log2(arr))\n",
        "print(np.expm1(arr))"
      ],
      "metadata": {
        "colab": {
          "base_uri": "https://localhost:8080/"
        },
        "id": "zf7okWLKZiw8",
        "outputId": "fbd5430f-4bc9-4986-fb5d-8230d4f025dd"
      },
      "execution_count": 59,
      "outputs": [
        {
          "output_type": "stream",
          "name": "stdout",
          "text": [
            "[ 2.71828183  7.3890561  20.08553692]\n",
            "[1.         1.41421356 1.73205081]\n",
            "[0.         0.69314718 1.09861229]\n",
            "[0.         0.30103    0.47712125]\n",
            "[0.        1.        1.5849625]\n",
            "[ 1.71828183  6.3890561  19.08553692]\n"
          ]
        }
      ]
    },
    {
      "cell_type": "code",
      "source": [
        "x=np.array([1,2,3])\n",
        "y=np.array([4,5,6])\n",
        "print(np.add(x,y))\n",
        "print(np.subtract(x, y))\n",
        "print(np.multiply(x, y))\n",
        "print(np.divide(x, y))\n",
        "print(np.power(x, y))\n",
        "print(np.mod(x, y))\n",
        "\n",
        "\n",
        "print(np.logical_and(x, y))\n",
        "print(np.logical_or(x, y))\n",
        "print(np.logical_not(x))\n",
        "print(np.logical_xor(x, y))\n",
        "print(np.greater(x, y))\n",
        "print(np.less(x, y))\n",
        "print(np.equal(x, y))\n",
        "print(np.not_equal(x, y))\n",
        "print(np.greater_equal(x, y))\n",
        "print(np.less_equal(x, y))\n",
        "print(np.bitwise_and(x, y))\n",
        "print(np.bitwise_or(x, y))\n",
        "print(np.bitwise_xor(x, y))\n",
        "print(np.invert(x))"
      ],
      "metadata": {
        "colab": {
          "base_uri": "https://localhost:8080/"
        },
        "id": "l8-UATjVZ7fY",
        "outputId": "118e416a-677d-466c-890f-bba79eac4c37"
      },
      "execution_count": 61,
      "outputs": [
        {
          "output_type": "stream",
          "name": "stdout",
          "text": [
            "[5 7 9]\n",
            "[-3 -3 -3]\n",
            "[ 4 10 18]\n",
            "[0.25 0.4  0.5 ]\n",
            "[  1  32 729]\n",
            "[1 2 3]\n",
            "[ True  True  True]\n",
            "[ True  True  True]\n",
            "[False False False]\n",
            "[False False False]\n",
            "[False False False]\n",
            "[ True  True  True]\n",
            "[False False False]\n",
            "[ True  True  True]\n",
            "[False False False]\n",
            "[ True  True  True]\n",
            "[0 0 2]\n",
            "[5 7 7]\n",
            "[5 7 5]\n",
            "[-2 -3 -4]\n"
          ]
        }
      ]
    },
    {
      "cell_type": "code",
      "source": [
        "np.sin(x)\n",
        "np.cos(x)\n",
        "np.tan(x)\n",
        "np.arcsin(x)\n",
        "np.arccos(x)\n",
        "np.arctan(x)\n",
        "np.degrees(x)\n",
        "np.radians(x)\n",
        "np.round(x)\n",
        "np.floor(x)\n",
        "np.ceil(x)\n",
        "np.trunc(x)\n",
        "np.min(x)\n",
        "np.max(x)\n",
        "np.mean(x)\n",
        "np.std(x)\n",
        "np.var(x)\n",
        "np.sum(x)\n",
        "np.prod(x)"
      ],
      "metadata": {
        "colab": {
          "base_uri": "https://localhost:8080/"
        },
        "id": "AjcH7WKKbBZ8",
        "outputId": "5b335cc2-5318-427e-a7ed-6991e3106c0e"
      },
      "execution_count": 62,
      "outputs": [
        {
          "output_type": "stream",
          "name": "stderr",
          "text": [
            "/tmp/ipython-input-1519505120.py:4: RuntimeWarning: invalid value encountered in arcsin\n",
            "  np.arcsin(x)\n",
            "/tmp/ipython-input-1519505120.py:5: RuntimeWarning: invalid value encountered in arccos\n",
            "  np.arccos(x)\n"
          ]
        },
        {
          "output_type": "execute_result",
          "data": {
            "text/plain": [
              "np.int64(6)"
            ]
          },
          "metadata": {},
          "execution_count": 62
        }
      ]
    },
    {
      "cell_type": "code",
      "source": [
        "farmA=np.array([[10,12,11],[9,11,10],[12,13,14],[8,7,9]])\n",
        "print(farmA)"
      ],
      "metadata": {
        "colab": {
          "base_uri": "https://localhost:8080/"
        },
        "id": "advG37VQc8ai",
        "outputId": "f30ec999-e1c2-4fe4-ce9c-d024650cc17a"
      },
      "execution_count": 64,
      "outputs": [
        {
          "output_type": "stream",
          "name": "stdout",
          "text": [
            "[[10 12 11]\n",
            " [ 9 11 10]\n",
            " [12 13 14]\n",
            " [ 8  7  9]]\n"
          ]
        }
      ]
    },
    {
      "cell_type": "code",
      "source": [
        "farmA=np.array([[10,12,11],[9,11,10],[12,13,14],[8,7,9]])\n",
        "print(farmA)\n",
        "farmB=np.array([[20,19,21],[18,20,19],[22,23,21],[17,18,16]])\n",
        "farmC=np.array([[15,16,14],[14,13,15],[16,17,18],[12,11,13]])\n",
        "print(farmB)\n",
        "print(farmC)"
      ],
      "metadata": {
        "colab": {
          "base_uri": "https://localhost:8080/"
        },
        "id": "vtPK82yUeG6N",
        "outputId": "3b55d3ed-3c94-4341-8436-24d0451387ed"
      },
      "execution_count": 69,
      "outputs": [
        {
          "output_type": "stream",
          "name": "stdout",
          "text": [
            "[[10 12 11]\n",
            " [ 9 11 10]\n",
            " [12 13 14]\n",
            " [ 8  7  9]]\n",
            "[[20 19 21]\n",
            " [18 20 19]\n",
            " [22 23 21]\n",
            " [17 18 16]]\n",
            "[[15 16 14]\n",
            " [14 13 15]\n",
            " [16 17 18]\n",
            " [12 11 13]]\n"
          ]
        }
      ]
    },
    {
      "cell_type": "code",
      "source": [
        "print(farmA.shape)\n",
        "production_all=np.array([farmA,farmB,farmC])\n",
        "print(production_all.shape)\n",
        "print(production_all.dtype)\n",
        "print(production_all.size)\n",
        "print(production_all.ndim)\n",
        "\n"
      ],
      "metadata": {
        "colab": {
          "base_uri": "https://localhost:8080/"
        },
        "id": "B9RhZmLee2PF",
        "outputId": "5d5974f6-713e-42bf-b0d7-0c7753cae085"
      },
      "execution_count": 73,
      "outputs": [
        {
          "output_type": "stream",
          "name": "stdout",
          "text": [
            "(4, 3)\n",
            "(3, 4, 3)\n",
            "int64\n",
            "36\n",
            "3\n"
          ]
        }
      ]
    },
    {
      "cell_type": "code",
      "source": [
        "total_per_farm =np.sum(production_all,axis=(1,2))\n",
        "print(total_per_farm)"
      ],
      "metadata": {
        "colab": {
          "base_uri": "https://localhost:8080/"
        },
        "id": "oeEMc6xifFWX",
        "outputId": "941e2b1a-4630-4dc3-ffc2-7cc41a17895b"
      },
      "execution_count": 75,
      "outputs": [
        {
          "output_type": "stream",
          "name": "stdout",
          "text": [
            "[126 234 174]\n"
          ]
        }
      ]
    },
    {
      "cell_type": "code",
      "source": [
        "mean_per_farm=np.mean(production_all,axis=(1,2))\n",
        "print(mean_per_farm)\n",
        "var_per_farm=np.var(production_all,axis=(1,2))\n",
        "print(var_per_farm)\n",
        "std_per_farm=np.std(production_all,axis=(1,2))\n",
        "print(std_per_farm)"
      ],
      "metadata": {
        "colab": {
          "base_uri": "https://localhost:8080/"
        },
        "id": "mXKX7oXRifDy",
        "outputId": "e437103e-62d1-418a-d2f9-d80df6d6ea6a"
      },
      "execution_count": 78,
      "outputs": [
        {
          "output_type": "stream",
          "name": "stdout",
          "text": [
            "[10.5 19.5 14.5]\n",
            "[3.91666667 3.91666667 3.91666667]\n",
            "[1.97905701 1.97905701 1.97905701]\n"
          ]
        }
      ]
    },
    {
      "cell_type": "code",
      "source": [
        "hour_weights=np.array([0.5,1.0,0.75])\n",
        "print(hour_weights)"
      ],
      "metadata": {
        "colab": {
          "base_uri": "https://localhost:8080/"
        },
        "id": "0G1ngzzBu6w7",
        "outputId": "6f855506-fd0d-458d-ce0c-86183ac10faf"
      },
      "execution_count": 80,
      "outputs": [
        {
          "output_type": "stream",
          "name": "stdout",
          "text": [
            "[0.5  1.   0.75]\n"
          ]
        }
      ]
    },
    {
      "cell_type": "code",
      "source": [
        "weighted_per_panel=np.dot(production_all,hour_weights)\n",
        "print(weighted_per_panel)"
      ],
      "metadata": {
        "colab": {
          "base_uri": "https://localhost:8080/"
        },
        "id": "Y8E5IQNVwi7H",
        "outputId": "38e7d53c-f90f-451c-e94d-d60487d69563"
      },
      "execution_count": 81,
      "outputs": [
        {
          "output_type": "stream",
          "name": "stdout",
          "text": [
            "[[25.25 23.   29.5  17.75]\n",
            " [44.75 43.25 49.75 38.5 ]\n",
            " [34.   31.25 38.5  26.75]]\n"
          ]
        }
      ]
    },
    {
      "cell_type": "code",
      "source": [
        "c=0.5\n",
        "print(farmB+c)\n"
      ],
      "metadata": {
        "colab": {
          "base_uri": "https://localhost:8080/"
        },
        "id": "grRnCbe_xU65",
        "outputId": "24f54113-6895-4fee-d668-3658641b52b4"
      },
      "execution_count": 82,
      "outputs": [
        {
          "output_type": "stream",
          "name": "stdout",
          "text": [
            "[[20.5 19.5 21.5]\n",
            " [18.5 20.5 19.5]\n",
            " [22.5 23.5 21.5]\n",
            " [17.5 18.5 16.5]]\n"
          ]
        }
      ]
    },
    {
      "cell_type": "code",
      "source": [
        "print(farmA,farmB+c,farmC)"
      ],
      "metadata": {
        "colab": {
          "base_uri": "https://localhost:8080/"
        },
        "id": "h-M8SH0Oxk9_",
        "outputId": "6b277382-b0a5-4432-a34b-111bf9e8628c"
      },
      "execution_count": 83,
      "outputs": [
        {
          "output_type": "stream",
          "name": "stdout",
          "text": [
            "[[10 12 11]\n",
            " [ 9 11 10]\n",
            " [12 13 14]\n",
            " [ 8  7  9]] [[20.5 19.5 21.5]\n",
            " [18.5 20.5 19.5]\n",
            " [22.5 23.5 21.5]\n",
            " [17.5 18.5 16.5]] [[15 16 14]\n",
            " [14 13 15]\n",
            " [16 17 18]\n",
            " [12 11 13]]\n"
          ]
        }
      ]
    },
    {
      "cell_type": "code",
      "source": [
        "normalize=(production_all-mean_per_farm)/std_per_farm\n",
        "print(normalize)"
      ],
      "metadata": {
        "colab": {
          "base_uri": "https://localhost:8080/"
        },
        "id": "BSRrZGcGxxwi",
        "outputId": "dae0db8f-0291-48f4-97b0-c93e0797e347"
      },
      "execution_count": 84,
      "outputs": [
        {
          "output_type": "stream",
          "name": "stdout",
          "text": [
            "[[[-0.25264558 -3.78968364 -1.76851903]\n",
            "  [-0.75793673 -4.2949748  -2.27381019]\n",
            "  [ 0.75793673 -3.28439249 -0.25264558]\n",
            "  [-1.26322788 -6.31613941 -2.77910134]]\n",
            "\n",
            " [[ 4.80026595 -0.25264558  3.28439249]\n",
            "  [ 3.78968364  0.25264558  2.27381019]\n",
            "  [ 5.81084826  1.76851903  3.28439249]\n",
            "  [ 3.28439249 -0.75793673  0.75793673]]\n",
            "\n",
            " [[ 2.27381019 -1.76851903 -0.25264558]\n",
            "  [ 1.76851903 -3.28439249  0.25264558]\n",
            "  [ 2.77910134 -1.26322788  1.76851903]\n",
            "  [ 0.75793673 -4.2949748  -0.75793673]]]\n"
          ]
        }
      ]
    },
    {
      "cell_type": "code",
      "source": [
        "print(np.exp(normalize))"
      ],
      "metadata": {
        "colab": {
          "base_uri": "https://localhost:8080/"
        },
        "id": "5LJLfAvky9yz",
        "outputId": "24bcc3e2-1041-42aa-a118-aea87805ab88"
      },
      "execution_count": 85,
      "outputs": [
        {
          "output_type": "stream",
          "name": "stdout",
          "text": [
            "[[[7.76743129e-01 2.26027512e-02 1.70585433e-01]\n",
            "  [4.68632346e-01 1.36369154e-02 1.02919290e-01]\n",
            "  [2.13386893e+00 3.74633375e-02 7.76743129e-01]\n",
            "  [2.82739901e-01 1.80690578e-03 6.20942840e-02]]\n",
            "\n",
            " [[1.21542738e+02 7.76743129e-01 2.66927633e+01]\n",
            "  [4.42424017e+01 1.28742690e+00 9.71635149e+00]\n",
            "  [3.33902240e+02 5.86216526e+00 2.66927633e+01]\n",
            "  [2.66927633e+01 4.68632346e-01 2.13386893e+00]]\n",
            "\n",
            " [[9.71635149e+00 1.70585433e-01 7.76743129e-01]\n",
            "  [5.86216526e+00 3.74633375e-02 1.28742690e+00]\n",
            "  [1.61045419e+01 2.82739901e-01 5.86216526e+00]\n",
            "  [2.13386893e+00 1.36369154e-02 4.68632346e-01]]]\n"
          ]
        }
      ]
    },
    {
      "cell_type": "code",
      "source": [
        "print(np.max((farmA)))\n",
        "panel_totals_per_farm =np.sum(production_all,axis=2)\n",
        "print(panel_totals_per_farm)\n"
      ],
      "metadata": {
        "colab": {
          "base_uri": "https://localhost:8080/"
        },
        "id": "ZOC14W3yziUt",
        "outputId": "040f42b6-bc15-4139-e52a-eccd8c880e45"
      },
      "execution_count": 114,
      "outputs": [
        {
          "output_type": "stream",
          "name": "stdout",
          "text": [
            "14\n",
            "[[33 30 39 24]\n",
            " [60 57 66 51]\n",
            " [45 42 51 36]]\n"
          ]
        }
      ]
    },
    {
      "cell_type": "markdown",
      "source": [
        "reshaping"
      ],
      "metadata": {
        "id": "kNF9_-MW2dKC"
      }
    },
    {
      "cell_type": "code",
      "source": [
        "arr=np.array([1,2,3,4,5,6])\n",
        "reshaped=arr.reshape(6,1)\n",
        "print(reshaped)"
      ],
      "metadata": {
        "colab": {
          "base_uri": "https://localhost:8080/"
        },
        "id": "fLO5_2ht1zUw",
        "outputId": "c2265716-e2b5-4c07-9a7f-02947eff0efc"
      },
      "execution_count": 90,
      "outputs": [
        {
          "output_type": "stream",
          "name": "stdout",
          "text": [
            "[[1]\n",
            " [2]\n",
            " [3]\n",
            " [4]\n",
            " [5]\n",
            " [6]]\n"
          ]
        }
      ]
    },
    {
      "cell_type": "markdown",
      "source": [
        "stacking and splitting"
      ],
      "metadata": {
        "id": "GpY0dFYc2fKr"
      }
    },
    {
      "cell_type": "code",
      "source": [
        "a=np.array([1,2])\n",
        "b=np.array([3,4])\n",
        "print(np.vstack((a,b)))\n",
        "print(np.hstack((a,b)))"
      ],
      "metadata": {
        "colab": {
          "base_uri": "https://localhost:8080/"
        },
        "id": "Wx2eMz1E2Dih",
        "outputId": "7f70f70f-2a1a-437c-d58b-a4b73a68b803"
      },
      "execution_count": 97,
      "outputs": [
        {
          "output_type": "stream",
          "name": "stdout",
          "text": [
            "[[1 2]\n",
            " [3 4]]\n",
            "[1 2 3 4]\n"
          ]
        }
      ]
    },
    {
      "cell_type": "code",
      "source": [
        "arr=np.array([1,2,3,4,5,6])\n",
        "print(np.array_split(arr,5))"
      ],
      "metadata": {
        "colab": {
          "base_uri": "https://localhost:8080/"
        },
        "id": "gdRD1Gq93Nwn",
        "outputId": "76820a60-d080-4352-9fd3-34380c709251"
      },
      "execution_count": 96,
      "outputs": [
        {
          "output_type": "stream",
          "name": "stdout",
          "text": [
            "[array([1, 2]), array([3]), array([4]), array([5]), array([6])]\n"
          ]
        }
      ]
    },
    {
      "cell_type": "code",
      "source": [
        "arr=np.array([1,2,3,4,5])\n",
        "print(arr[arr>3])\n"
      ],
      "metadata": {
        "colab": {
          "base_uri": "https://localhost:8080/"
        },
        "id": "8FQ-P-Xf30oa",
        "outputId": "b3059dfc-ef0b-4bae-b543-df1312ca3cf6"
      },
      "execution_count": 99,
      "outputs": [
        {
          "output_type": "stream",
          "name": "stdout",
          "text": [
            "[4 5]\n"
          ]
        }
      ]
    },
    {
      "cell_type": "code",
      "source": [
        "arr=np.array([10,20,30,40])\n",
        "ind=[1,2]\n",
        "print(arr[ind])"
      ],
      "metadata": {
        "colab": {
          "base_uri": "https://localhost:8080/"
        },
        "id": "L6ZyPQIj5L90",
        "outputId": "d97ba704-b0fc-490c-8133-a8703dd6a5e8"
      },
      "execution_count": 103,
      "outputs": [
        {
          "output_type": "stream",
          "name": "stdout",
          "text": [
            "[20 30]\n"
          ]
        }
      ]
    },
    {
      "cell_type": "markdown",
      "source": [
        "copy vs view"
      ],
      "metadata": {
        "id": "PHTCdAv751bK"
      }
    },
    {
      "cell_type": "code",
      "source": [
        "arr=np.array([1,2,3])\n",
        "view=arr.view()\n",
        "view[0]=10\n",
        "view[1]=23\n",
        "print(arr)"
      ],
      "metadata": {
        "colab": {
          "base_uri": "https://localhost:8080/"
        },
        "id": "sRE-qSdL5fIz",
        "outputId": "67fc4458-1162-4e5e-90bb-6d795b4dacf2"
      },
      "execution_count": 108,
      "outputs": [
        {
          "output_type": "stream",
          "name": "stdout",
          "text": [
            "[10 23  3]\n"
          ]
        }
      ]
    },
    {
      "cell_type": "code",
      "source": [
        "copy=arr.copy()\n",
        "copy[0]=123\n",
        "copy[1]=23\n",
        "print(arr)"
      ],
      "metadata": {
        "colab": {
          "base_uri": "https://localhost:8080/"
        },
        "id": "PyDzqMfp6Ier",
        "outputId": "cc05708f-110b-4fbf-ef9d-f136b801b500"
      },
      "execution_count": 112,
      "outputs": [
        {
          "output_type": "stream",
          "name": "stdout",
          "text": [
            "[10 23  3]\n"
          ]
        }
      ]
    },
    {
      "cell_type": "markdown",
      "source": [
        "saving and loading"
      ],
      "metadata": {
        "id": "USfdxeqf62QN"
      }
    },
    {
      "cell_type": "code",
      "source": [
        "arr=np.array([1,2,3])\n",
        "np.save('array.npy',arr)\n",
        "loaded_arr=np.load('array.npy')\n",
        "print(loaded_arr)"
      ],
      "metadata": {
        "colab": {
          "base_uri": "https://localhost:8080/"
        },
        "id": "_OSrLt436OYG",
        "outputId": "08db0f0a-9374-47b2-9613-0499ebbe8773"
      },
      "execution_count": 113,
      "outputs": [
        {
          "output_type": "stream",
          "name": "stdout",
          "text": [
            "[1 2 3]\n"
          ]
        }
      ]
    },
    {
      "cell_type": "code",
      "source": [
        "a=np.arange(10,51)\n",
        "print(a)\n",
        "random_arr=np.random.rand(3,3)\n",
        "print(random_arr)\n"
      ],
      "metadata": {
        "colab": {
          "base_uri": "https://localhost:8080/"
        },
        "id": "NKSav8Dg7TsL",
        "outputId": "7573f160-da27-4e6c-b91b-784d83be33b1"
      },
      "execution_count": 123,
      "outputs": [
        {
          "output_type": "stream",
          "name": "stdout",
          "text": [
            "[10 11 12 13 14 15 16 17 18 19 20 21 22 23 24 25 26 27 28 29 30 31 32 33\n",
            " 34 35 36 37 38 39 40 41 42 43 44 45 46 47 48 49 50]\n",
            "[[0.77193281 0.26617222 0.38195058]\n",
            " [0.63524975 0.16049272 0.74554136]\n",
            " [0.12944955 0.87162396 0.96601757]]\n"
          ]
        }
      ]
    },
    {
      "cell_type": "code",
      "source": [
        "print(arr.shape)\n",
        "print(arr.dtype)\n",
        "print(arr.size)\n",
        "print(arr.ndim)"
      ],
      "metadata": {
        "colab": {
          "base_uri": "https://localhost:8080/"
        },
        "id": "TJuWZKd18gP7",
        "outputId": "292d8435-4dc3-4d9e-d5a5-b1b1efeb410c"
      },
      "execution_count": 125,
      "outputs": [
        {
          "output_type": "stream",
          "name": "stdout",
          "text": [
            "(3,)\n",
            "int64\n",
            "3\n",
            "1\n"
          ]
        }
      ]
    },
    {
      "cell_type": "code",
      "source": [
        "print(arr)"
      ],
      "metadata": {
        "colab": {
          "base_uri": "https://localhost:8080/"
        },
        "id": "UG_voSsR-NO4",
        "outputId": "74f924aa-a851-4a43-fc4d-c187091bed60"
      },
      "execution_count": 126,
      "outputs": [
        {
          "output_type": "stream",
          "name": "stdout",
          "text": [
            "[1 2 3]\n"
          ]
        }
      ]
    },
    {
      "cell_type": "code",
      "source": [
        "a=5\n",
        "print(arr+a)"
      ],
      "metadata": {
        "colab": {
          "base_uri": "https://localhost:8080/"
        },
        "id": "s22mG2uY-XrX",
        "outputId": "ec7fd8f3-90d3-47c1-f341-b05cd6b98dac"
      },
      "execution_count": 127,
      "outputs": [
        {
          "output_type": "stream",
          "name": "stdout",
          "text": [
            "[6 7 8]\n"
          ]
        }
      ]
    },
    {
      "cell_type": "code",
      "source": [
        "arr1=np.array([1,2,3])\n",
        "arr2=np.array([4,5,6])\n",
        "print(arr1*arr2)"
      ],
      "metadata": {
        "colab": {
          "base_uri": "https://localhost:8080/"
        },
        "id": "1-nk6YXg-bV1",
        "outputId": "f04c93ab-533f-47ca-8251-4da8d6df0d6d"
      },
      "execution_count": 128,
      "outputs": [
        {
          "output_type": "stream",
          "name": "stdout",
          "text": [
            "[ 4 10 18]\n"
          ]
        }
      ]
    },
    {
      "cell_type": "code",
      "source": [
        "a=np.arange(1,26)\n",
        "print(a)\n",
        "reshaped=a.reshape(5,5)\n",
        "print(reshaped)"
      ],
      "metadata": {
        "colab": {
          "base_uri": "https://localhost:8080/"
        },
        "id": "-p1bbH72-qYO",
        "outputId": "9d600d81-22e3-49a3-ca5e-837f3d770a69"
      },
      "execution_count": 131,
      "outputs": [
        {
          "output_type": "stream",
          "name": "stdout",
          "text": [
            "[ 1  2  3  4  5  6  7  8  9 10 11 12 13 14 15 16 17 18 19 20 21 22 23 24\n",
            " 25]\n",
            "[[ 1  2  3  4  5]\n",
            " [ 6  7  8  9 10]\n",
            " [11 12 13 14 15]\n",
            " [16 17 18 19 20]\n",
            " [21 22 23 24 25]]\n"
          ]
        }
      ]
    },
    {
      "cell_type": "code",
      "source": [
        "print(reshaped[0:1])\n",
        "print(reshaped[:,-1])\n",
        "print(reshaped[0:3,0:2])\n"
      ],
      "metadata": {
        "colab": {
          "base_uri": "https://localhost:8080/"
        },
        "id": "v7A_rcBI-2cT",
        "outputId": "f3e9f6c8-5a40-4f40-ae74-04b31cd53b87"
      },
      "execution_count": 142,
      "outputs": [
        {
          "output_type": "stream",
          "name": "stdout",
          "text": [
            "[[1 2 3 4 5]]\n",
            "[ 5 10 15 20 25]\n",
            "[[ 1  2]\n",
            " [ 6  7]\n",
            " [11 12]]\n"
          ]
        }
      ]
    },
    {
      "cell_type": "code",
      "source": [
        "a=np.random.randint(10,100,10)\n",
        "print(a)"
      ],
      "metadata": {
        "colab": {
          "base_uri": "https://localhost:8080/"
        },
        "id": "6xJjNLuE_UVY",
        "outputId": "9218d179-872e-4d83-89b4-3c149c1f40ce"
      },
      "execution_count": 143,
      "outputs": [
        {
          "output_type": "stream",
          "name": "stdout",
          "text": [
            "[55 54 32 95 82 20 36 89 87 15]\n"
          ]
        }
      ]
    },
    {
      "cell_type": "code",
      "source": [
        "max=a.max()\n",
        "print(max)\n",
        "min=np.min(a)\n",
        "print(min)\n",
        "mean=np.mean(a)\n",
        "std=np.std(a)\n",
        "print(mean)\n",
        "print(std)"
      ],
      "metadata": {
        "colab": {
          "base_uri": "https://localhost:8080/"
        },
        "id": "1dSNzArfBqUz",
        "outputId": "e2507087-34f8-4254-e7a3-8f92a03d7906"
      },
      "execution_count": 148,
      "outputs": [
        {
          "output_type": "stream",
          "name": "stdout",
          "text": [
            "95\n",
            "15\n",
            "56.5\n",
            "28.64000698323937\n"
          ]
        }
      ]
    },
    {
      "cell_type": "code",
      "source": [
        "a=np.arange(1,13)\n",
        "print(a.reshape(3,4))"
      ],
      "metadata": {
        "colab": {
          "base_uri": "https://localhost:8080/"
        },
        "id": "CWm4f3k5Bwhx",
        "outputId": "4b811ad1-0cdf-4388-a5a5-3d274c44075d"
      },
      "execution_count": 149,
      "outputs": [
        {
          "output_type": "stream",
          "name": "stdout",
          "text": [
            "[[ 1  2  3  4]\n",
            " [ 5  6  7  8]\n",
            " [ 9 10 11 12]]\n"
          ]
        }
      ]
    },
    {
      "cell_type": "code",
      "source": [
        "ones=np.ones((3,3))\n",
        "print(ones)"
      ],
      "metadata": {
        "colab": {
          "base_uri": "https://localhost:8080/"
        },
        "id": "dis8o4k4CV0n",
        "outputId": "3986b3ee-ffdf-49cb-dc7c-a5a649ec9dbb"
      },
      "execution_count": 150,
      "outputs": [
        {
          "output_type": "stream",
          "name": "stdout",
          "text": [
            "[[1. 1. 1.]\n",
            " [1. 1. 1.]\n",
            " [1. 1. 1.]]\n"
          ]
        }
      ]
    },
    {
      "cell_type": "code",
      "source": [
        "arr=np.array([1,2,3])\n",
        "print(ones+arr)"
      ],
      "metadata": {
        "colab": {
          "base_uri": "https://localhost:8080/"
        },
        "id": "etSvMEn6Cf-y",
        "outputId": "db37bc63-77ff-472f-8ec4-d44cd1fe3fa3"
      },
      "execution_count": 151,
      "outputs": [
        {
          "output_type": "stream",
          "name": "stdout",
          "text": [
            "[[2. 3. 4.]\n",
            " [2. 3. 4.]\n",
            " [2. 3. 4.]]\n"
          ]
        }
      ]
    },
    {
      "cell_type": "code",
      "source": [
        "a=np.random.randint(1,51)\n",
        "\n",
        "print(a)\n",
        "divisible=(a%5 ==0)\n",
        "print(divisible)\n"
      ],
      "metadata": {
        "colab": {
          "base_uri": "https://localhost:8080/"
        },
        "id": "fnjHyrwLCtdf",
        "outputId": "fc82ca91-ec5c-412d-fe10-d01871b2183b"
      },
      "execution_count": 158,
      "outputs": [
        {
          "output_type": "stream",
          "name": "stdout",
          "text": [
            "17\n",
            "False\n"
          ]
        }
      ]
    },
    {
      "cell_type": "code",
      "source": [
        "mat1=np.array([[1,2],[3,4]])\n",
        "mat2=np.array([[5,6],[7,8]])\n",
        "print(np.dot(mat1,mat2))"
      ],
      "metadata": {
        "colab": {
          "base_uri": "https://localhost:8080/"
        },
        "id": "_mbk_ZHSESdE",
        "outputId": "17e45a39-f67b-47d1-802b-dddb58ca44f2"
      },
      "execution_count": 159,
      "outputs": [
        {
          "output_type": "stream",
          "name": "stdout",
          "text": [
            "[[19 22]\n",
            " [43 50]]\n"
          ]
        }
      ]
    },
    {
      "cell_type": "code",
      "source": [
        "a=np.array([[1,2,3,4],[5,6,7,8],[9,10,11,12],[13,14,15,16]])\n",
        "print(np.diagonal(a))"
      ],
      "metadata": {
        "colab": {
          "base_uri": "https://localhost:8080/"
        },
        "id": "EVjf_orpFTMn",
        "outputId": "42698557-951d-4113-df3f-6d1426bc791d"
      },
      "execution_count": 161,
      "outputs": [
        {
          "output_type": "stream",
          "name": "stdout",
          "text": [
            "[ 1  6 11 16]\n"
          ]
        }
      ]
    },
    {
      "cell_type": "code",
      "source": [],
      "metadata": {
        "id": "J3Nu_jjNC8aG"
      },
      "execution_count": null,
      "outputs": []
    }
  ]
}